{
 "cells": [
  {
   "cell_type": "markdown",
   "id": "76ff071b",
   "metadata": {},
   "source": [
    "**Project Title**\n",
    "The Economic Impact of Natural Disasters on Local Economies\n",
    "\n",
    "**Problem Statement**: Natural disasters, such as floods and droughts, cause significant economic disruption and financial loss. Predicting the monetary impact of these events is challenging due to the complex interaction of environmental and economic factors. By creating a predictive model, this project can help improve disaster preparedness, inform resource allocation, and strengthen economic resilience in affected regions.\n",
    "\n",
    "**Description**: Analyzing the economic impact of disasters is a complex and often manual process. It's difficult to get a full picture of the financial damage and prepare for future events effectively. By following a structured data science pipeline, we can automate this analysis. Our project will use historical data to build a predictive model that forecasts economic loss. This can improve disaster preparedness, inform better resource allocation, and ultimately strengthen economic resilience in affected regions."
   ]
  },
  {
   "cell_type": "code",
   "execution_count": 3,
   "id": "5f825f95",
   "metadata": {},
   "outputs": [],
   "source": [
    "import pandas as pd\n",
    "import numpy as np\n",
    "import matplotlib.pyplot as plt\n",
    "import seaborn as sns\n",
    "from sklearn.model_selection import train_test_split\n",
    "from sklearn.linear_model import LinearRegression\n",
    "from sklearn.metrics import mean_squared_error, r2_score"
   ]
  },
  {
   "cell_type": "code",
   "execution_count": null,
   "id": "d1151877",
   "metadata": {},
   "outputs": [],
   "source": [
    "df_disaster = pd.read_csv('events-US-1980-2024.csv', skiprows=2)\n",
    "df_agri = pd.read_csv('BiotechCropsAllTables2024.csv', skiprows=2, header=None, encoding='latin1')"
   ]
  },
  {
   "cell_type": "code",
   "execution_count": 5,
   "id": "fb6480ea",
   "metadata": {},
   "outputs": [
    {
     "name": "stdout",
     "output_type": "stream",
     "text": [
      "                                                Name          Disaster  \\\n",
      "0   Southern Severe Storms and Flooding (April 1980)          Flooding   \n",
      "1                      Hurricane Allen (August 1980)  Tropical Cyclone   \n",
      "2  Central/Eastern Drought/Heat Wave (Summer-Fall...           Drought   \n",
      "3                      Florida Freeze (January 1981)            Freeze   \n",
      "4  Severe Storms, Flash Floods, Hail, Tornadoes (...      Severe Storm   \n",
      "\n",
      "   Begin Date  End Date  CPI-Adjusted Cost  Unadjusted Cost  Deaths  \n",
      "0    19800410  19800417             2756.4            706.8      30  \n",
      "1    19800807  19800811             2236.2            590.0      13  \n",
      "2    19800601  19801130            40681.2          10020.0    1260  \n",
      "3    19810112  19810114             2076.4            572.0       0  \n",
      "4    19810505  19810510             1409.1            401.4      20  \n",
      "                                                   0         1     2   3  \\\n",
      "0  Insect-resistant (Bt) only (percent of all cor...  Illinois  2001  12   \n",
      "1  Insect-resistant (Bt) only (percent of all cor...  Illinois  2002  18   \n",
      "2  Insect-resistant (Bt) only (percent of all cor...  Illinois  2003  23   \n",
      "3  Insect-resistant (Bt) only (percent of all cor...  Illinois  2004  26   \n",
      "4  Insect-resistant (Bt) only (percent of all cor...  Illinois  2005  25   \n",
      "\n",
      "                                                   4  \n",
      "0  Genetically engineered (GE) corn varieties by ...  \n",
      "1  Genetically engineered (GE) corn varieties by ...  \n",
      "2  Genetically engineered (GE) corn varieties by ...  \n",
      "3  Genetically engineered (GE) corn varieties by ...  \n",
      "4  Genetically engineered (GE) corn varieties by ...  \n"
     ]
    }
   ],
   "source": [
    "print(df_disaster.head())\n",
    "print(df_agri.head())"
   ]
  },
  {
   "cell_type": "code",
   "execution_count": 6,
   "id": "840b8a4f",
   "metadata": {},
   "outputs": [
    {
     "name": "stdout",
     "output_type": "stream",
     "text": [
      "<class 'pandas.core.frame.DataFrame'>\n",
      "RangeIndex: 403 entries, 0 to 402\n",
      "Data columns (total 7 columns):\n",
      " #   Column             Non-Null Count  Dtype  \n",
      "---  ------             --------------  -----  \n",
      " 0   Name               403 non-null    object \n",
      " 1   Disaster           403 non-null    object \n",
      " 2   Begin Date         403 non-null    int64  \n",
      " 3   End Date           403 non-null    int64  \n",
      " 4   CPI-Adjusted Cost  403 non-null    float64\n",
      " 5   Unadjusted Cost    403 non-null    float64\n",
      " 6   Deaths             403 non-null    int64  \n",
      "dtypes: float64(2), int64(3), object(2)\n",
      "memory usage: 22.2+ KB\n",
      "None\n",
      "         Begin Date      End Date  CPI-Adjusted Cost  Unadjusted Cost  \\\n",
      "count  4.030000e+02  4.030000e+02         403.000000       403.000000   \n",
      "mean   2.010085e+07  2.010103e+07        7239.718362      5111.904963   \n",
      "std    1.209757e+05  1.208701e+05       18086.927893     13540.309989   \n",
      "min    1.980041e+07  1.980042e+07        1063.800000       400.000000   \n",
      "25%    2.002085e+07  2.002102e+07        1627.000000      1104.750000   \n",
      "50%    2.013091e+07  2.013112e+07        2456.900000      1738.500000   \n",
      "75%    2.020076e+07  2.020081e+07        4923.200000      3235.650000   \n",
      "max    2.024101e+07  2.024123e+07      201297.500000    125029.500000   \n",
      "\n",
      "            Deaths  \n",
      "count   403.000000  \n",
      "mean     42.037221  \n",
      "std     195.227705  \n",
      "min       0.000000  \n",
      "25%       0.500000  \n",
      "50%       5.000000  \n",
      "75%      25.000000  \n",
      "max    2981.000000  \n",
      "Name                 0\n",
      "Disaster             0\n",
      "Begin Date           0\n",
      "End Date             0\n",
      "CPI-Adjusted Cost    0\n",
      "Unadjusted Cost      0\n",
      "Deaths               0\n",
      "dtype: int64\n",
      "<class 'pandas.core.frame.DataFrame'>\n",
      "RangeIndex: 3499 entries, 0 to 3498\n",
      "Data columns (total 5 columns):\n",
      " #   Column  Non-Null Count  Dtype \n",
      "---  ------  --------------  ----- \n",
      " 0   0       3499 non-null   object\n",
      " 1   1       3499 non-null   object\n",
      " 2   2       3499 non-null   int64 \n",
      " 3   3       3499 non-null   object\n",
      " 4   4       3499 non-null   object\n",
      "dtypes: int64(1), object(4)\n",
      "memory usage: 136.8+ KB\n",
      "None\n",
      "                 2\n",
      "count  3499.000000\n",
      "mean   2012.003430\n",
      "std       7.210309\n",
      "min    2000.000000\n",
      "25%    2006.000000\n",
      "50%    2012.000000\n",
      "75%    2018.000000\n",
      "max    2024.000000\n",
      "0    0\n",
      "1    0\n",
      "2    0\n",
      "3    0\n",
      "4    0\n",
      "dtype: int64\n"
     ]
    }
   ],
   "source": [
    "print(df_disaster.info())\n",
    "print(df_disaster.describe())\n",
    "print(df_disaster.isnull().sum())\n",
    "\n",
    "print(df_agri.info())\n",
    "print(df_agri.describe())\n",
    "print(df_agri.isnull().sum())\n"
   ]
  },
  {
   "cell_type": "code",
   "execution_count": 7,
   "id": "de2c7dcf",
   "metadata": {},
   "outputs": [],
   "source": [
    "df_agri.columns = ['Trait', 'State', 'Year', 'Value', 'Description']"
   ]
  },
  {
   "cell_type": "code",
   "execution_count": 8,
   "id": "c1bbcf9e",
   "metadata": {},
   "outputs": [
    {
     "data": {
      "text/html": [
       "<div>\n",
       "<style scoped>\n",
       "    .dataframe tbody tr th:only-of-type {\n",
       "        vertical-align: middle;\n",
       "    }\n",
       "\n",
       "    .dataframe tbody tr th {\n",
       "        vertical-align: top;\n",
       "    }\n",
       "\n",
       "    .dataframe thead th {\n",
       "        text-align: right;\n",
       "    }\n",
       "</style>\n",
       "<table border=\"1\" class=\"dataframe\">\n",
       "  <thead>\n",
       "    <tr style=\"text-align: right;\">\n",
       "      <th></th>\n",
       "      <th>Trait</th>\n",
       "      <th>State</th>\n",
       "      <th>Year</th>\n",
       "      <th>Value</th>\n",
       "      <th>Description</th>\n",
       "    </tr>\n",
       "  </thead>\n",
       "  <tbody>\n",
       "    <tr>\n",
       "      <th>0</th>\n",
       "      <td>Insect-resistant (Bt) only (percent of all cor...</td>\n",
       "      <td>Illinois</td>\n",
       "      <td>2001</td>\n",
       "      <td>12</td>\n",
       "      <td>Genetically engineered (GE) corn varieties by ...</td>\n",
       "    </tr>\n",
       "    <tr>\n",
       "      <th>1</th>\n",
       "      <td>Insect-resistant (Bt) only (percent of all cor...</td>\n",
       "      <td>Illinois</td>\n",
       "      <td>2002</td>\n",
       "      <td>18</td>\n",
       "      <td>Genetically engineered (GE) corn varieties by ...</td>\n",
       "    </tr>\n",
       "    <tr>\n",
       "      <th>2</th>\n",
       "      <td>Insect-resistant (Bt) only (percent of all cor...</td>\n",
       "      <td>Illinois</td>\n",
       "      <td>2003</td>\n",
       "      <td>23</td>\n",
       "      <td>Genetically engineered (GE) corn varieties by ...</td>\n",
       "    </tr>\n",
       "    <tr>\n",
       "      <th>3</th>\n",
       "      <td>Insect-resistant (Bt) only (percent of all cor...</td>\n",
       "      <td>Illinois</td>\n",
       "      <td>2004</td>\n",
       "      <td>26</td>\n",
       "      <td>Genetically engineered (GE) corn varieties by ...</td>\n",
       "    </tr>\n",
       "    <tr>\n",
       "      <th>4</th>\n",
       "      <td>Insect-resistant (Bt) only (percent of all cor...</td>\n",
       "      <td>Illinois</td>\n",
       "      <td>2005</td>\n",
       "      <td>25</td>\n",
       "      <td>Genetically engineered (GE) corn varieties by ...</td>\n",
       "    </tr>\n",
       "  </tbody>\n",
       "</table>\n",
       "</div>"
      ],
      "text/plain": [
       "                                               Trait     State  Year Value  \\\n",
       "0  Insect-resistant (Bt) only (percent of all cor...  Illinois  2001    12   \n",
       "1  Insect-resistant (Bt) only (percent of all cor...  Illinois  2002    18   \n",
       "2  Insect-resistant (Bt) only (percent of all cor...  Illinois  2003    23   \n",
       "3  Insect-resistant (Bt) only (percent of all cor...  Illinois  2004    26   \n",
       "4  Insect-resistant (Bt) only (percent of all cor...  Illinois  2005    25   \n",
       "\n",
       "                                         Description  \n",
       "0  Genetically engineered (GE) corn varieties by ...  \n",
       "1  Genetically engineered (GE) corn varieties by ...  \n",
       "2  Genetically engineered (GE) corn varieties by ...  \n",
       "3  Genetically engineered (GE) corn varieties by ...  \n",
       "4  Genetically engineered (GE) corn varieties by ...  "
      ]
     },
     "execution_count": 8,
     "metadata": {},
     "output_type": "execute_result"
    }
   ],
   "source": [
    "df_agri.head()"
   ]
  }
 ],
 "metadata": {
  "kernelspec": {
   "display_name": "Python 3",
   "language": "python",
   "name": "python3"
  },
  "language_info": {
   "codemirror_mode": {
    "name": "ipython",
    "version": 3
   },
   "file_extension": ".py",
   "mimetype": "text/x-python",
   "name": "python",
   "nbconvert_exporter": "python",
   "pygments_lexer": "ipython3",
   "version": "3.13.5"
  }
 },
 "nbformat": 4,
 "nbformat_minor": 5
}
